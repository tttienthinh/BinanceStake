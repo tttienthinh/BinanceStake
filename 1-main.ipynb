{
 "cells": [
  {
   "cell_type": "markdown",
   "metadata": {},
   "source": [
    "# Importation"
   ]
  },
  {
   "cell_type": "code",
   "execution_count": 18,
   "metadata": {},
   "outputs": [],
   "source": [
    "import requests, json, pickle, time\n",
    "import os\n",
    "from telegram.ext import *\n",
    "import telegram\n",
    "import pandas as pd\n",
    "import time\n",
    "import json, pickle"
   ]
  },
  {
   "cell_type": "markdown",
   "metadata": {},
   "source": [
    "# Variable"
   ]
  },
  {
   "cell_type": "code",
   "execution_count": 10,
   "metadata": {},
   "outputs": [],
   "source": [
    "'https://www.binance.com/gateway-api/v1/friendly/pos/union?pageSize=50&pageIndex=1&status=ALL'\n",
    "\n",
    "'https://www.binance.com/bapi/earn/v1/friendly/lending/project/list?pageSize=100&pageIndex=1&status=ALL'\n",
    "defi_URL = 'https://www.binance.com/bapi/earn/v1/friendly/defi-pos/union?pageSize=50&pageIndex=1&status=ALL'\n",
    "locked_URL = 'https://www.binance.com/gateway-api/v1/friendly/pos/union?status=ALL&pageSize=100'\n",
    "with open('env.json', 'r') as fp:\n",
    "    env = json.load(fp)\n",
    "\n",
    "URL = os.getenv(\"URL\")\n",
    "bot_token = os.getenv(\"bot_token\")\n",
    "bot_chatID = os.getenv(\"bot_chatID\")"
   ]
  },
  {
   "cell_type": "code",
   "execution_count": 11,
   "metadata": {},
   "outputs": [],
   "source": [
    "API = env[\"BinanceStakeController\"]"
   ]
  },
  {
   "cell_type": "code",
   "execution_count": 12,
   "metadata": {},
   "outputs": [],
   "source": [
    "bot = telegram.Bot(token=API)\n",
    "bot.sendMessage(chat_id = 1730011637, text = 'Hey there!')\n",
    "\n",
    "# locked\n",
    "response = json.loads(requests.get(locked_URL).text)[\"data\"]\n",
    "result = {}\n",
    "for item in response:\n",
    "    duration = []\n",
    "    for asset in item[\"projects\"]:\n",
    "        duration.append(asset[\"duration\"])\n",
    "    result[item[\"asset\"]] = duration\n",
    "json.dump(result, open(\"data/locked.json\", \"w\"))\n",
    "\n",
    "\n",
    "# defi\n",
    "response = json.loads(requests.get(defi_URL).text)[\"data\"]\n",
    "result = []\n",
    "for item in response:\n",
    "    result.append(item[\"asset\"])\n",
    "json.dump(result, open(\"data/defi.json\", \"w\"))"
   ]
  },
  {
   "cell_type": "markdown",
   "metadata": {
    "heading_collapsed": true
   },
   "source": [
    "# fonction"
   ]
  },
  {
   "cell_type": "code",
   "execution_count": 49,
   "metadata": {
    "hidden": true
   },
   "outputs": [],
   "source": [
    "def add_user(update):\n",
    "    chat_id = update.message.chat_id\n",
    "    df = pd.read_csv(\"data/users.csv\")\n",
    "    if chat_id not in df.id.values:\n",
    "        username = update.effective_user.username\n",
    "        firstname = update.effective_user.first_name\n",
    "        lastname = update.effective_user.last_name\n",
    "        with open(\"data/users.csv\", \"a+\") as f:\n",
    "            f.write(f\"\\n{time.asctime()},{chat_id},{username},{firstname},{lastname}\")\n",
    "            f.close()\n",
    "        update.message.reply_text(\"Welcome new user !\")\n",
    "\n",
    "def subscribe_error(update):\n",
    "    update.message.reply_text(\n",
    "        \"Please enter at least one currency to subscribe ! \\nIf you need some /help. \\nOr contact @tttienthinh\"\n",
    "    )\n",
    "\n",
    "def get_user(chat_id):\n",
    "    df = pd.read_csv(\"data/locked.csv\")\n",
    "    locked = df[df.id == chat_id]\n",
    "    \n",
    "    df = pd.read_csv(\"data/defi.csv\")\n",
    "    defi = df[df.id == chat_id]\n",
    "    return locked, defi"
   ]
  },
  {
   "cell_type": "code",
   "execution_count": 80,
   "metadata": {
    "hidden": true
   },
   "outputs": [],
   "source": [
    "def responses(input_text):\n",
    "    return input_text\n",
    "\n",
    "def start_command(update, context):\n",
    "    add_user(update)\n",
    "    help_command(update, context)\n",
    "\n",
    "def help_command(update, context):\n",
    "    update.message.reply_text(open(\"text/help.txt\", \"r\").read())\n",
    "\n",
    "def settings_command(update, context):\n",
    "    chat_id = update.message.chat_id\n",
    "    \n",
    "    response = open(\"text/settings1.txt\", \"r\").read()\n",
    "    locked, defi = get_user(chat_id)\n",
    "    for token in list(locked.token.drop_duplicates()):\n",
    "        response += token \\\n",
    "            + \" - {\" \\\n",
    "            + \",\".join([str(x) for x in list(locked[locked.token == token].duration)]) \\\n",
    "            + \"}\\n\"\n",
    "    response += \"\\n\"\n",
    "    response += open(\"text/settings2.txt\", \"r\").read()\n",
    "    response += \"\\n\".join([str(x) for x in list(defi.token)])\n",
    "    response += \"\\n\"\n",
    "    update.message.reply_text(response)\n",
    "    \n",
    "def list_command(update, context):\n",
    "    response = \"Currencies for locked staking:\\n\\n\"\n",
    "    dico = json.load(open(\"data/locked.json\", \"r\"))\n",
    "    for token in sorted(list(dico.keys())):\n",
    "        response += token + \" - {\" + \",\".join(dico[token]) + \"}\\n\"\n",
    "    \n",
    "    response += \"\\nCurrencies for DeFi staking:\\n\\n\"\n",
    "    dico = json.load(open(\"data/defi.json\", \"r\"))\n",
    "    response += \"\\n\".join(sorted(dico))\n",
    "    update.message.reply_text(response)\n",
    "    \n",
    "def subscribe_command(update, context):\n",
    "    liste = context.args\n",
    "    if len(liste) == 0:\n",
    "        subscribe_error(update)\n",
    "    else:\n",
    "        dico = json.load(open(\"data/locked.json\", \"r\"))\n",
    "        chat_id = update.message.chat_id\n",
    "        locked, defi = get_user(chat_id)\n",
    "        for item in liste:\n",
    "            item = item.replace(\" \", \"\").upper()\n",
    "            durations = []\n",
    "            if \"-\" in item:\n",
    "                i = item.index(\"-\")\n",
    "                token = item[:i]\n",
    "                if token not in dico.keys():\n",
    "                    update.message.reply_text(\n",
    "                        f\"Token {token} not found\"\n",
    "                    )\n",
    "                else:\n",
    "                    for duration in item[i+1:].split(\",\"):\n",
    "                        if (duration in dico[token]) and (duration not in durations):\n",
    "                            durations.append(duration)\n",
    "                        else:\n",
    "                            update.message.reply_text(f\"Token {token} not found\")\n",
    "            else:\n",
    "                token = item\n",
    "                if token not in dico.keys():\n",
    "                        update.message.reply_text(f\"Token {token} not found\")\n",
    "                else:\n",
    "                    durations = dico[token]\n",
    "            with open(\"data/locked.csv\", \"a+\") as f:\n",
    "                for duration in durations:\n",
    "                    if ((locked.token==token) & (locked.duration==int(duration))).sum() == 0:\n",
    "                        f.write(f\"\\n{chat_id},{token},{duration}\")\n",
    "                        update.message.reply_text(\n",
    "                            f\"Token {token}-{duration} subscribed successfully\"\n",
    "                        )\n",
    "                    else:\n",
    "                        update.message.reply_text(\n",
    "                            f\"Token {token}-{duration} already subscribed\"\n",
    "                        )\n",
    "                f.close()\n",
    "    \n",
    "def subscribe_defi_command(update, context):\n",
    "    liste = context.args\n",
    "    if len(liste) == 0:\n",
    "        subscribe_error(update)\n",
    "    else:\n",
    "        dico = json.load(open(\"data/defi.json\", \"r\"))\n",
    "        chat_id = update.message.chat_id\n",
    "        locked, defi = get_user(chat_id)\n",
    "        for token in liste:\n",
    "            token = token.replace(\" \", \"\").upper()\n",
    "            if token not in dico:\n",
    "                update.message.reply_text(\n",
    "                    f\"Token {token} not found\"\n",
    "                )\n",
    "            else:\n",
    "                with open(\"data/defi.csv\", \"a+\") as f:\n",
    "                    if (defi.token==token).sum() == 0:\n",
    "                        f.write(f\"\\n{chat_id},{token}\")\n",
    "                        update.message.reply_text(\n",
    "                            f\"Token {token} subscribed successfully\"\n",
    "                        )\n",
    "                    else:\n",
    "                        update.message.reply_text(\n",
    "                            f\"Token {token} already subscribed\"\n",
    "                        )\n",
    "                    f.close()\n",
    "                \n",
    "def unsubscribe_command(update, context):\n",
    "    update.message.reply_text(\n",
    "        \"I'm sorry, this function is not created yet, I am working on it\"\n",
    "    )        \n",
    "def unsubscribe_defi_command(update, context):\n",
    "    liste = context.args\n",
    "    if len(liste) == 0:\n",
    "        subscribe_error(update)\n",
    "    else:\n",
    "        chat_id = update.message.chat_id\n",
    "        df = pd.read_csv(\"data/defi.csv\")\n",
    "        for token in liste:\n",
    "            token = token.replace(\" \", \"\").upper()\n",
    "            df.drop(\n",
    "                labels=df[(df.token==token) & (df.id==chat_id)].index,\n",
    "                axis=0,\n",
    "                inplace=True\n",
    "            )\n",
    "        df.to_csv(\"data/defi.csv\", index=False)\n",
    "        update.message.reply_text(\n",
    "            \"Good, see /settings \"\n",
    "        )\n",
    "    \n",
    "def test(update, context):\n",
    "    pass\n",
    "    \n",
    "def error(update, context):\n",
    "    update.message.reply_text(\n",
    "        \"I'm sorry there was an error \\nIf you need some /help. \\nOr contact @tttienthinh\"\n",
    "    )\n",
    "    print(\"Error\")"
   ]
  },
  {
   "cell_type": "markdown",
   "metadata": {
    "heading_collapsed": true
   },
   "source": [
    "# run"
   ]
  },
  {
   "cell_type": "code",
   "execution_count": null,
   "metadata": {
    "hidden": true,
    "scrolled": false
   },
   "outputs": [],
   "source": [
    "updater = Updater(API, use_context=True)\n",
    "dp = updater.dispatcher\n",
    "\n",
    "dp.add_handler(CommandHandler(\"start\", start_command))\n",
    "dp.add_handler(CommandHandler(\"help\", help_command))\n",
    "dp.add_handler(CommandHandler(\"settings\", settings_command))\n",
    "dp.add_handler(CommandHandler(\"list\", list_command))\n",
    "dp.add_handler(CommandHandler(\"subscribe\", subscribe_command))\n",
    "dp.add_handler(CommandHandler(\"subscribe_defi\", subscribe_defi_command))\n",
    "dp.add_handler(CommandHandler(\"unsubscribe\", unsubscribe_command))\n",
    "dp.add_handler(CommandHandler(\"unsubscribe_defi\", unsubscribe_defi_command))\n",
    "dp.add_handler(CommandHandler(\"test\", test))\n",
    "\n",
    "\n",
    "dp.add_error_handler(error)\n",
    "\n",
    "updater.start_polling()\n",
    "updater.idle()"
   ]
  },
  {
   "cell_type": "markdown",
   "metadata": {},
   "source": [
    "# Always on"
   ]
  },
  {
   "cell_type": "code",
   "execution_count": 2,
   "metadata": {},
   "outputs": [],
   "source": [
    "def data():\n",
    "    # Locked\n",
    "    response = json.loads(requests.get(locked_URL).text)[\"data\"]\n",
    "    result = {}\n",
    "    locked_avbl = []\n",
    "    for item in response:\n",
    "        duration = []\n",
    "        for asset in item[\"projects\"]:\n",
    "            duration.append(asset[\"duration\"])\n",
    "            if not asset[\"sellOut\"]:\n",
    "                locked_avbl.append({\n",
    "                    \"asset\":asset[\"asset\"],\n",
    "                    \"duration\":asset[\"duration\"],\n",
    "                    \"APY\":str(round(\n",
    "                        float(asset[\"config\"][\"annualInterestRate\"]) * 100,\n",
    "                        2\n",
    "                    ))\n",
    "                })\n",
    "        result[item[\"asset\"]] = duration\n",
    "    json.dump(result, open(\"data/locked.json\", \"w\"))\n",
    "    \n",
    "    # Defi\n",
    "    response = json.loads(requests.get(defi_URL).text)[\"data\"]\n",
    "    result = []\n",
    "    defi_avbl = []\n",
    "    for item in response:\n",
    "        result.append(item[\"asset\"])\n",
    "        if not asset[\"sellOut\"]:\n",
    "            defi_avbl.append({\n",
    "                \"asset\":asset[\"asset\"],\n",
    "                \"duration\":asset[\"duration\"],\n",
    "                \"APY\":str(round(\n",
    "                    float(asset[\"config\"][\"annualInterestRate\"]) * 100,\n",
    "                    2\n",
    "                ))\n",
    "            })\n",
    "    json.dump(result, open(\"data/defi.json\", \"w\"))\n",
    "    \n",
    "    return locked_avbl, defi_avbl"
   ]
  },
  {
   "cell_type": "code",
   "execution_count": 4,
   "metadata": {
    "scrolled": true
   },
   "outputs": [
    {
     "ename": "NameError",
     "evalue": "name 'URL' is not defined",
     "output_type": "error",
     "traceback": [
      "\u001b[0;31m---------------------------------------------------------------------------\u001b[0m",
      "\u001b[0;31mNameError\u001b[0m                                 Traceback (most recent call last)",
      "\u001b[0;32m<ipython-input-4-ebe6952acea8>\u001b[0m in \u001b[0;36m<module>\u001b[0;34m\u001b[0m\n\u001b[0;32m----> 1\u001b[0;31m \u001b[0mbinance\u001b[0m\u001b[0;34m(\u001b[0m\u001b[0;34m)\u001b[0m\u001b[0;34m\u001b[0m\u001b[0;34m\u001b[0m\u001b[0m\n\u001b[0m",
      "\u001b[0;32m<ipython-input-2-4871ef5ef652>\u001b[0m in \u001b[0;36mbinance\u001b[0;34m()\u001b[0m\n\u001b[1;32m      1\u001b[0m \u001b[0;32mdef\u001b[0m \u001b[0mbinance\u001b[0m\u001b[0;34m(\u001b[0m\u001b[0;34m)\u001b[0m\u001b[0;34m:\u001b[0m\u001b[0;34m\u001b[0m\u001b[0;34m\u001b[0m\u001b[0m\n\u001b[0;32m----> 2\u001b[0;31m     \u001b[0mresponse\u001b[0m \u001b[0;34m=\u001b[0m \u001b[0mjson\u001b[0m\u001b[0;34m.\u001b[0m\u001b[0mloads\u001b[0m\u001b[0;34m(\u001b[0m\u001b[0mrequests\u001b[0m\u001b[0;34m.\u001b[0m\u001b[0mget\u001b[0m\u001b[0;34m(\u001b[0m\u001b[0mURL\u001b[0m\u001b[0;34m)\u001b[0m\u001b[0;34m.\u001b[0m\u001b[0mtext\u001b[0m\u001b[0;34m)\u001b[0m\u001b[0;34m[\u001b[0m\u001b[0;34m\"data\"\u001b[0m\u001b[0;34m]\u001b[0m\u001b[0;34m\u001b[0m\u001b[0;34m\u001b[0m\u001b[0m\n\u001b[0m\u001b[1;32m      3\u001b[0m     \u001b[0mresult\u001b[0m \u001b[0;34m=\u001b[0m \u001b[0;34m[\u001b[0m\u001b[0;34m]\u001b[0m\u001b[0;34m\u001b[0m\u001b[0;34m\u001b[0m\u001b[0m\n\u001b[1;32m      4\u001b[0m     \u001b[0;32mfor\u001b[0m \u001b[0mitem\u001b[0m \u001b[0;32min\u001b[0m \u001b[0mresponse\u001b[0m\u001b[0;34m:\u001b[0m\u001b[0;34m\u001b[0m\u001b[0;34m\u001b[0m\u001b[0m\n\u001b[1;32m      5\u001b[0m         \u001b[0;32mfor\u001b[0m \u001b[0masset\u001b[0m \u001b[0;32min\u001b[0m \u001b[0mitem\u001b[0m\u001b[0;34m[\u001b[0m\u001b[0;34m\"projects\"\u001b[0m\u001b[0;34m]\u001b[0m\u001b[0;34m:\u001b[0m\u001b[0;34m\u001b[0m\u001b[0;34m\u001b[0m\u001b[0m\n",
      "\u001b[0;31mNameError\u001b[0m: name 'URL' is not defined"
     ]
    }
   ],
   "source": [
    "def always_on():\n",
    "    while True:\n",
    "        total_messages = [[], []]\n",
    "        start = time.time()\n",
    "        past_locked_avbl = pickle.load(open('data/locked_avbl.pkl', 'rb'))\n",
    "        past_defi_avbl = pickle.load(open('data/defi_avbl.pkl', 'rb'))\n",
    "        locked_avbl, defi_avbl = data()\n",
    "        # Locked\n",
    "        for data in locked_avbl:\n",
    "            if data not in past_result:\n",
    "                df = pd.read_csv(\"data/locked.csv\")\n",
    "                token = data[\"asset\"]\n",
    "                duration = data[\"duration\"]\n",
    "                message = \" \".join([\n",
    "                    token,\n",
    "                    f'{duration} days',\n",
    "                    f'{data[\"APY\"]}% APY',\n",
    "                ])\n",
    "                total_messages[0].append(message)\n",
    "                message = \"Locked Staking new release \\n\" + message\n",
    "                for chat_id in list(df[(df.token==token) & (df.duration==int(duration))].id):\n",
    "                    bot.sendMessage(\n",
    "                        chat_id = chat_id, \n",
    "                        text = message\n",
    "                    )\n",
    "        # Defi\n",
    "        for data in defi_avbl:\n",
    "            if data not in past_result:\n",
    "                df = pd.read_csv(\"data/defi.csv\")\n",
    "                token = data[\"asset\"]\n",
    "                message = \" \".join([\n",
    "                    token,\n",
    "                    f'{data[\"APY\"]}% APY',\n",
    "                ])\n",
    "                total_messages[1].append(message)\n",
    "                message = \"Defi Staking new release \\n\" + message\n",
    "                for chat_id in list(df[df.token==token].id):\n",
    "                    bot.sendMessage(\n",
    "                        chat_id = chat_id, \n",
    "                        text = message\n",
    "                    )\n",
    "        pickle.dump(locked_avbl, open('data/locked_avbl.pkl', 'rb'))\n",
    "        pickle.dump(defi_avbl, open('data/defi_avbl.pkl', 'rb'))\n",
    "        end = time.time()\n",
    "        time.sleep(max(60, 10*60 + now - end))  # Executing every 10 minutes"
   ]
  },
  {
   "cell_type": "code",
   "execution_count": 34,
   "metadata": {},
   "outputs": [
    {
     "data": {
      "text/plain": [
       "True"
      ]
     },
     "execution_count": 34,
     "metadata": {},
     "output_type": "execute_result"
    }
   ],
   "source": [
    "[[],[]] ==[[],[]] "
   ]
  },
  {
   "cell_type": "code",
   "execution_count": null,
   "metadata": {},
   "outputs": [],
   "source": []
  }
 ],
 "metadata": {
  "kernelspec": {
   "display_name": "Scientist",
   "language": "python",
   "name": "scientist"
  },
  "language_info": {
   "codemirror_mode": {
    "name": "ipython",
    "version": 3
   },
   "file_extension": ".py",
   "mimetype": "text/x-python",
   "name": "python",
   "nbconvert_exporter": "python",
   "pygments_lexer": "ipython3",
   "version": "3.8.10"
  },
  "toc": {
   "base_numbering": 1,
   "nav_menu": {},
   "number_sections": true,
   "sideBar": true,
   "skip_h1_title": true,
   "title_cell": "Table of Contents",
   "title_sidebar": "Contents",
   "toc_cell": false,
   "toc_position": {},
   "toc_section_display": true,
   "toc_window_display": false
  },
  "varInspector": {
   "cols": {
    "lenName": 16,
    "lenType": 16,
    "lenVar": 40
   },
   "kernels_config": {
    "python": {
     "delete_cmd_postfix": "",
     "delete_cmd_prefix": "del ",
     "library": "var_list.py",
     "varRefreshCmd": "print(var_dic_list())"
    },
    "r": {
     "delete_cmd_postfix": ") ",
     "delete_cmd_prefix": "rm(",
     "library": "var_list.r",
     "varRefreshCmd": "cat(var_dic_list()) "
    }
   },
   "types_to_exclude": [
    "module",
    "function",
    "builtin_function_or_method",
    "instance",
    "_Feature"
   ],
   "window_display": false
  }
 },
 "nbformat": 4,
 "nbformat_minor": 4
}
