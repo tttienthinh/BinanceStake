{
 "cells": [
  {
   "cell_type": "code",
   "execution_count": 94,
   "metadata": {},
   "outputs": [],
   "source": [
    "import requests, json, pickle, time\n",
    "import os\n",
    "from telegram.ext import *\n",
    "import telegram\n",
    "import pandas as pd\n",
    "import time\n",
    "import json"
   ]
  },
  {
   "cell_type": "code",
   "execution_count": 83,
   "metadata": {},
   "outputs": [],
   "source": [
    "'https://www.binance.com/gateway-api/v1/friendly/pos/union?pageSize=50&pageIndex=1&status=ALL'\n",
    "\n",
    "'https://www.binance.com/bapi/earn/v1/friendly/lending/project/list?pageSize=100&pageIndex=1&status=ALL'\n",
    "defi_URL = 'https://www.binance.com/bapi/earn/v1/friendly/defi-pos/union?pageSize=50&pageIndex=1&status=ALL'\n",
    "locked_URL = 'https://www.binance.com/gateway-api/v1/friendly/pos/union?status=ALL&pageSize=100'\n",
    "\n",
    "\n",
    "URL = os.getenv(\"URL\")\n",
    "bot_token = os.getenv(\"bot_token\")\n",
    "bot_chatID = os.getenv(\"bot_chatID\")"
   ]
  },
  {
   "cell_type": "code",
   "execution_count": 3,
   "metadata": {},
   "outputs": [],
   "source": [
    "API = \"1851628250:AAHPMfkpTEJpzWdzsEaUb3kU-VjUhiToMqE\""
   ]
  },
  {
   "cell_type": "code",
   "execution_count": 4,
   "metadata": {},
   "outputs": [
    {
     "data": {
      "text/plain": [
       "<telegram.message.Message at 0x7fedd5a99640>"
      ]
     },
     "execution_count": 4,
     "metadata": {},
     "output_type": "execute_result"
    }
   ],
   "source": [
    "bot = telegram.Bot(token=API)\n",
    "bot.sendMessage(chat_id = 1730011637, text = 'Hey there!')\n",
    "\n",
    "# locked\n",
    "response = json.loads(requests.get(locked_URL).text)[\"data\"]\n",
    "result = {}\n",
    "for item in response:\n",
    "    duration = []\n",
    "    for asset in item[\"projects\"]:\n",
    "        duration.append(asset[\"duration\"])\n",
    "    result[item[\"asset\"]] = duration\n",
    "json.dump(result, open(\"data/locked.json\", \"w\"))\n",
    "\n",
    "\n",
    "# defi\n",
    "response = json.loads(requests.get(defi_URL).text)[\"data\"]\n",
    "result = []\n",
    "for item in response:\n",
    "    result.append(item[\"asset\"])\n",
    "json.dump(result, open(\"data/defi.json\", \"w\"))"
   ]
  },
  {
   "cell_type": "code",
   "execution_count": 156,
   "metadata": {},
   "outputs": [],
   "source": [
    "def add_user(update):\n",
    "    chat_id = update.message.chat_id\n",
    "    df = pd.read_csv(\"data/users.csv\")\n",
    "    if chat_id not in df.id.values:\n",
    "        username = update.effective_user.username\n",
    "        firstname = update.effective_user.first_name\n",
    "        lastname = update.effective_user.last_name\n",
    "        with open(\"data/users.csv\", \"a+\") as f:\n",
    "            f.write(f\"\\n{time.asctime()},{chat_id},{username},{firstname},{lastname}\")\n",
    "            f.close()\n",
    "        update.message.reply_text(\"Welcome new user !\")\n",
    "\n",
    "def subscribe_error():\n",
    "    update.message.reply_text(\n",
    "            \"Please enter at least one currency to subscribe ! \\nIf you need some /help.\"\n",
    "    )\n",
    "\n",
    "def get_user(chat_id):\n",
    "    df = pd.read_csv(\"data/locked.csv\")\n",
    "    locked = df[df.id == chat_id]\n",
    "    \n",
    "    df = pd.read_csv(\"data/defi.csv\")\n",
    "    defi = df[df.id == chat_id]\n",
    "    return locked, defi"
   ]
  },
  {
   "cell_type": "code",
   "execution_count": 176,
   "metadata": {},
   "outputs": [],
   "source": [
    "def responses(input_text):\n",
    "    return input_text\n",
    "\n",
    "def start_command(update, context):\n",
    "    print(context)\n",
    "    add_user(update)\n",
    "    help_command(update, context)\n",
    "\n",
    "def help_command(update, context):\n",
    "    update.message.reply_text(open(\"text/help.txt\", \"r\").read())\n",
    "\n",
    "def settings_command(update, context):\n",
    "    chat_id = update.message.chat_id\n",
    "    \n",
    "    response = open(\"text/settings1.txt\", \"r\").read()\n",
    "    locked, defi = get_user(chat_id)\n",
    "    for token in list(df_.token.drop_duplicates()):\n",
    "        response += token \\\n",
    "            + \" - {\" \\\n",
    "            + \",\".join([str(x) for x in list(locked[locked.token == token].duration)]) \\\n",
    "            + \"}\\n\"\n",
    "    response += \"\\n\"\n",
    "    response += open(\"text/settings2.txt\", \"r\").read()\n",
    "    response += \"\\n\".join([str(x) for x in list(defi.token)])\n",
    "    response += \"\\n\"\n",
    "    update.message.reply_text(response)\n",
    "    \n",
    "def list_command(update, context):\n",
    "    response = \"Currencies for locked staking:\\n\\n\"\n",
    "    dico = json.load(open(\"data/locked.json\", \"r\"))\n",
    "    for token in sorted(list(dico.keys())):\n",
    "        response += token + \" - {\" + \",\".join(dico[token]) + \"}\\n\"\n",
    "    \n",
    "    response += \"\\nCurrencies for DeFi staking:\\n\\n\"\n",
    "    dico = json.load(open(\"data/defi.json\", \"r\"))\n",
    "    response += \"\\n\".join(sorted(dico))\n",
    "    update.message.reply_text(response)\n",
    "    \n",
    "def subscribe_command(update, context):\n",
    "    liste = context.args\n",
    "    if len(liste) == 0:\n",
    "        subscribe_error()\n",
    "    else:\n",
    "        dico = json.load(open(\"data/locked.json\", \"r\"))\n",
    "        chat_id = update.message.chat_id\n",
    "        locked, defi = get_user(chat_id)\n",
    "        for item in liste:\n",
    "            item = item.replace(\" \", \"\").upper()\n",
    "            durations = []\n",
    "            if \"-\" in item:\n",
    "                i = item.index(\"-\")\n",
    "                token = item[:i]\n",
    "                if token not in dico.keys():\n",
    "                        update.message.reply_text(\n",
    "                            f\"Token {token} not found\"\n",
    "                        )\n",
    "                else:\n",
    "                    for duration in item[i+1:].split(\",\"):\n",
    "                        if duration in dico[token]:\n",
    "                            durations.append()\n",
    "                        else:\n",
    "                            update.message.reply_text(\n",
    "                                f\"Token {token} not found\"\n",
    "                            )\n",
    "            else:\n",
    "                token = item\n",
    "                if token not in dico.keys():\n",
    "                        update.message.reply_text(\n",
    "                            f\"Token {token} not found\"\n",
    "                        )\n",
    "                else:\n",
    "                    durations = dico[token]\n",
    "            with open(\"data/locked.csv\", \"a+\") as f:\n",
    "                for duration in durations:\n",
    "                    if ((locked.token==token) & (locked.duration==duration)).sum() == 0:\n",
    "                        f.write(f\"\\n{chat_id},{token},{duration}\")\n",
    "                    else:\n",
    "                        update.message.reply_text(\n",
    "                            f\"Token {token} already subscribed\"\n",
    "                        )\n",
    "                f.close()\n",
    "                \n",
    "def test(update, context):\n",
    "    pass\n",
    "    \n",
    "def error(update, context):\n",
    "    print(\"Error\")"
   ]
  },
  {
   "cell_type": "code",
   "execution_count": null,
   "metadata": {},
   "outputs": [
    {
     "name": "stdout",
     "output_type": "stream",
     "text": [
      "Error\n"
     ]
    }
   ],
   "source": [
    "updater = Updater(API, use_context=True)\n",
    "dp = updater.dispatcher\n",
    "\n",
    "dp.add_handler(CommandHandler(\"start\", start_command))\n",
    "dp.add_handler(CommandHandler(\"help\", help_command))\n",
    "dp.add_handler(CommandHandler(\"settings\", settings_command))\n",
    "dp.add_handler(CommandHandler(\"list\", list_command))\n",
    "dp.add_handler(CommandHandler(\"subscribe\", subscribe_command))\n",
    "dp.add_handler(CommandHandler(\"test\", test))\n",
    "\n",
    "\n",
    "dp.add_error_handler(error)\n",
    "\n",
    "updater.start_polling()\n",
    "updater.idle()"
   ]
  },
  {
   "cell_type": "code",
   "execution_count": 39,
   "metadata": {},
   "outputs": [
    {
     "data": {
      "text/plain": [
       "True"
      ]
     },
     "execution_count": 39,
     "metadata": {},
     "output_type": "execute_result"
    }
   ],
   "source": [
    "1730011637 in df.id.values"
   ]
  },
  {
   "cell_type": "code",
   "execution_count": 135,
   "metadata": {},
   "outputs": [],
   "source": [
    "t = None"
   ]
  },
  {
   "cell_type": "code",
   "execution_count": 144,
   "metadata": {},
   "outputs": [
    {
     "data": {
      "text/plain": [
       "<telegram.ext.callbackcontext.CallbackContext at 0x7fedc707ff90>"
      ]
     },
     "execution_count": 144,
     "metadata": {},
     "output_type": "execute_result"
    }
   ],
   "source": [
    "t"
   ]
  },
  {
   "cell_type": "code",
   "execution_count": 160,
   "metadata": {},
   "outputs": [],
   "source": [
    "locked, defi = get_user(1730011637)"
   ]
  },
  {
   "cell_type": "code",
   "execution_count": 170,
   "metadata": {},
   "outputs": [
    {
     "data": {
      "text/plain": [
       "1"
      ]
     },
     "execution_count": 170,
     "metadata": {},
     "output_type": "execute_result"
    }
   ],
   "source": [
    "((locked.token == \"test\") & (locked.duration==45)).sum()"
   ]
  },
  {
   "cell_type": "code",
   "execution_count": 150,
   "metadata": {},
   "outputs": [
    {
     "data": {
      "text/plain": [
       "'30'"
      ]
     },
     "execution_count": 150,
     "metadata": {},
     "output_type": "execute_result"
    }
   ],
   "source": [
    "\"BNB-30\"[4:]"
   ]
  },
  {
   "cell_type": "code",
   "execution_count": 155,
   "metadata": {},
   "outputs": [
    {
     "data": {
      "text/plain": [
       "['30', '60']"
      ]
     },
     "execution_count": 155,
     "metadata": {},
     "output_type": "execute_result"
    }
   ],
   "source": [
    "\"30, 60\".replace(\" \", \"\").split(\",\")"
   ]
  },
  {
   "cell_type": "code",
   "execution_count": null,
   "metadata": {},
   "outputs": [],
   "source": []
  }
 ],
 "metadata": {
  "kernelspec": {
   "display_name": "Scientist",
   "language": "python",
   "name": "scientist"
  },
  "language_info": {
   "codemirror_mode": {
    "name": "ipython",
    "version": 3
   },
   "file_extension": ".py",
   "mimetype": "text/x-python",
   "name": "python",
   "nbconvert_exporter": "python",
   "pygments_lexer": "ipython3",
   "version": "3.8.10"
  },
  "toc": {
   "base_numbering": 1,
   "nav_menu": {},
   "number_sections": true,
   "sideBar": true,
   "skip_h1_title": true,
   "title_cell": "Table of Contents",
   "title_sidebar": "Contents",
   "toc_cell": false,
   "toc_position": {},
   "toc_section_display": true,
   "toc_window_display": false
  },
  "varInspector": {
   "cols": {
    "lenName": 16,
    "lenType": 16,
    "lenVar": 40
   },
   "kernels_config": {
    "python": {
     "delete_cmd_postfix": "",
     "delete_cmd_prefix": "del ",
     "library": "var_list.py",
     "varRefreshCmd": "print(var_dic_list())"
    },
    "r": {
     "delete_cmd_postfix": ") ",
     "delete_cmd_prefix": "rm(",
     "library": "var_list.r",
     "varRefreshCmd": "cat(var_dic_list()) "
    }
   },
   "types_to_exclude": [
    "module",
    "function",
    "builtin_function_or_method",
    "instance",
    "_Feature"
   ],
   "window_display": false
  }
 },
 "nbformat": 4,
 "nbformat_minor": 4
}
